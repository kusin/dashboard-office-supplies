{
 "cells": [
  {
   "cell_type": "markdown",
   "metadata": {},
   "source": [
    "## Data Visualiazation of Supply Sales with Streamlit Framework"
   ]
  },
  {
   "cell_type": "code",
   "execution_count": 1,
   "metadata": {},
   "outputs": [],
   "source": [
    "# library data-visualization\n",
    "import numpy as np\n",
    "import pandas as pd\n",
    "pd.set_option('display.width', 1000)\n",
    "pd.set_option('display.max_columns', 1000)\n",
    "\n",
    "# library manipulation data\n",
    "import seaborn as sns\n",
    "import matplotlib.pyplot as plt"
   ]
  },
  {
   "cell_type": "markdown",
   "metadata": {},
   "source": [
    "### 1. Data Acquisition"
   ]
  },
  {
   "cell_type": "code",
   "execution_count": 2,
   "metadata": {},
   "outputs": [
    {
     "name": "stdout",
     "output_type": "stream",
     "text": [
      "<class 'pandas.core.frame.DataFrame'>\n",
      "RangeIndex: 8092 entries, 0 to 8091\n",
      "Data columns (total 10 columns):\n",
      " #   Column        Non-Null Count  Dtype         \n",
      "---  ------        --------------  -----         \n",
      " 0   Ship Date     8092 non-null   datetime64[ns]\n",
      " 1   Month         8092 non-null   object        \n",
      " 2   Year          8092 non-null   object        \n",
      " 3   Ship Mode     8092 non-null   object        \n",
      " 4   Area          8092 non-null   object        \n",
      " 5   Region        8092 non-null   object        \n",
      " 6   Category      8092 non-null   object        \n",
      " 7   Sub-Category  8092 non-null   object        \n",
      " 8   Sold          8092 non-null   int64         \n",
      " 9   Profit        8092 non-null   int64         \n",
      "dtypes: datetime64[ns](1), int64(2), object(7)\n",
      "memory usage: 632.3+ KB\n"
     ]
    }
   ],
   "source": [
    "# load-dataset with parse date\n",
    "dataset = pd.read_csv(\"dataset/dataset-supply.csv\", parse_dates=[\"Ship Date\"])\n",
    "\n",
    "# convert month to object\n",
    "dataset['Month'] = dataset['Ship Date'].dt.month\n",
    "dataset['Month'] = dataset['Month'].astype(object)\n",
    "\n",
    "# convert int64 to object \n",
    "dataset['Year'] = dataset['Year'].astype(object)\n",
    "\n",
    "# show-metadata\n",
    "dataset.info()"
   ]
  },
  {
   "cell_type": "code",
   "execution_count": 3,
   "metadata": {},
   "outputs": [
    {
     "name": "stdout",
     "output_type": "stream",
     "text": [
      "      Ship Date Month  Year       Ship Mode        Area Region         Category Sub-Category  Sold   Profit\n",
      "0    2016-11-11    11  2016    Second Class        Jawa  South        Furniture    Bookcases   270   503000\n",
      "1    2016-11-11    11  2016    Second Class     Sumatra  South        Furniture       Chairs   740  2635000\n",
      "2    2016-06-16     6  2016    Second Class        Bali   West  Office Supplies       Labels    20    82500\n",
      "3    2015-10-18    10  2015  Standard Class       Papua  South  Office Supplies      Storage    30    30200\n",
      "4    2014-06-14     6  2014  Standard Class    Sulawesi   West        Furniture  Furnishings    50   170100\n",
      "...         ...   ...   ...             ...         ...    ...              ...          ...   ...      ...\n",
      "8087 2014-01-23     1  2014    Second Class    Sulawesi  South        Furniture  Furnishings    30    49300\n",
      "8088 2017-03-03     3  2017  Standard Class  Kalimantan   West        Furniture  Furnishings   100   187600\n",
      "8089 2017-03-03     3  2017  Standard Class        Jawa   West       Technology       Phones   260   232800\n",
      "8090 2017-03-03     3  2017  Standard Class     Sumatra   West  Office Supplies        Paper    30   159900\n",
      "8091 2017-05-09     5  2017    Second Class        Bali   West  Office Supplies   Appliances   250   875400\n",
      "\n",
      "[8092 rows x 10 columns]\n"
     ]
    }
   ],
   "source": [
    "print(dataset)"
   ]
  },
  {
   "cell_type": "markdown",
   "metadata": {},
   "source": [
    "### 2. Exploration Data Analysis"
   ]
  },
  {
   "cell_type": "code",
   "execution_count": 4,
   "metadata": {},
   "outputs": [
    {
     "name": "stdout",
     "output_type": "stream",
     "text": [
      "Min Date : 2014-01-07 00:00:00\n",
      "Max Date : 2017-12-31 00:00:00\n"
     ]
    }
   ],
   "source": [
    "# Show min-max datetime\n",
    "print(\"Min Date : \"+str(dataset[\"Ship Date\"].min()))\n",
    "print(\"Max Date : \"+str(dataset[\"Ship Date\"].max()))"
   ]
  },
  {
   "cell_type": "code",
   "execution_count": 5,
   "metadata": {},
   "outputs": [
    {
     "data": {
      "text/plain": [
       "array([2014, 2015, 2016, 2017], dtype=object)"
      ]
     },
     "execution_count": 5,
     "metadata": {},
     "output_type": "execute_result"
    }
   ],
   "source": [
    "# show unique values years\n",
    "dataset[\"Year\"].sort_values().unique()"
   ]
  },
  {
   "cell_type": "code",
   "execution_count": 6,
   "metadata": {},
   "outputs": [
    {
     "data": {
      "text/plain": [
       "array(['First Class', 'Same Day', 'Second Class', 'Standard Class'],\n",
       "      dtype=object)"
      ]
     },
     "execution_count": 6,
     "metadata": {},
     "output_type": "execute_result"
    }
   ],
   "source": [
    "# show unique ship \n",
    "dataset[\"Ship Mode\"].sort_values().unique()"
   ]
  },
  {
   "cell_type": "code",
   "execution_count": 7,
   "metadata": {},
   "outputs": [
    {
     "data": {
      "text/plain": [
       "array(['Bali', 'Jawa', 'Kalimantan', 'Papua', 'Sulawesi', 'Sumatra'],\n",
       "      dtype=object)"
      ]
     },
     "execution_count": 7,
     "metadata": {},
     "output_type": "execute_result"
    }
   ],
   "source": [
    "# show unique area\n",
    "dataset[\"Area\"].sort_values().unique()"
   ]
  },
  {
   "cell_type": "code",
   "execution_count": 8,
   "metadata": {},
   "outputs": [
    {
     "data": {
      "text/plain": [
       "array(['Central', 'East', 'South', 'West'], dtype=object)"
      ]
     },
     "execution_count": 8,
     "metadata": {},
     "output_type": "execute_result"
    }
   ],
   "source": [
    "# show unique region\n",
    "dataset[\"Region\"].sort_values().unique()"
   ]
  },
  {
   "cell_type": "code",
   "execution_count": 9,
   "metadata": {},
   "outputs": [
    {
     "data": {
      "text/plain": [
       "array(['Furniture', 'Office Supplies', 'Technology'], dtype=object)"
      ]
     },
     "execution_count": 9,
     "metadata": {},
     "output_type": "execute_result"
    }
   ],
   "source": [
    "# show unique category\n",
    "dataset[\"Category\"].sort_values().unique()"
   ]
  },
  {
   "cell_type": "code",
   "execution_count": 10,
   "metadata": {},
   "outputs": [
    {
     "data": {
      "text/plain": [
       "array(['Accessories', 'Appliances', 'Art', 'Binders', 'Bookcases',\n",
       "       'Chairs', 'Copiers', 'Envelopes', 'Fasteners', 'Furnishings',\n",
       "       'Labels', 'Machines', 'Paper', 'Phones', 'Storage', 'Supplies',\n",
       "       'Tables'], dtype=object)"
      ]
     },
     "execution_count": 10,
     "metadata": {},
     "output_type": "execute_result"
    }
   ],
   "source": [
    "# show unique sub-category\n",
    "dataset[\"Sub-Category\"].sort_values().unique()"
   ]
  },
  {
   "cell_type": "code",
   "execution_count": 11,
   "metadata": {},
   "outputs": [
    {
     "name": "stdout",
     "output_type": "stream",
     "text": [
      "Min values sold : 10\n",
      "Max values sold : 17500\n"
     ]
    }
   ],
   "source": [
    "# show min-max values sold\n",
    "print(\"Min values sold : \"+str(dataset[\"Sold\"].min()))\n",
    "print(\"Max values sold : \"+str(dataset[\"Sold\"].max()))"
   ]
  },
  {
   "cell_type": "code",
   "execution_count": 12,
   "metadata": {},
   "outputs": [
    {
     "name": "stdout",
     "output_type": "stream",
     "text": [
      "Min values sold : 0\n",
      "Max values sold : 100799800\n"
     ]
    }
   ],
   "source": [
    "# show min-max values profit\n",
    "print(\"Min values sold : \"+str(dataset[\"Profit\"].min()))\n",
    "print(\"Max values sold : \"+str(dataset[\"Profit\"].max()))"
   ]
  },
  {
   "cell_type": "code",
   "execution_count": 13,
   "metadata": {},
   "outputs": [],
   "source": [
    "def profit(df, category):\n",
    "\n",
    "    # calculate profit by some category\n",
    "    sum_profit = df.query(\"Category == @category\")[\"Profit\"].sum()\n",
    "    sum_profit = \"{:,}\".format(sum_profit)\n",
    "\n",
    "    return sum_profit"
   ]
  },
  {
   "cell_type": "code",
   "execution_count": 14,
   "metadata": {},
   "outputs": [
    {
     "name": "stdout",
     "output_type": "stream",
     "text": [
      "Profit Furniture : 946,090,000\n"
     ]
    }
   ],
   "source": [
    "print(\"Profit Furniture : \"+str(profit(dataset, 'Furniture')))"
   ]
  },
  {
   "cell_type": "code",
   "execution_count": 15,
   "metadata": {},
   "outputs": [
    {
     "name": "stdout",
     "output_type": "stream",
     "text": [
      "Profit Office Supplies : 2,142,769,900\n"
     ]
    }
   ],
   "source": [
    "print(\"Profit Office Supplies : \"+str(profit(dataset, 'Office Supplies')))"
   ]
  },
  {
   "cell_type": "code",
   "execution_count": 16,
   "metadata": {},
   "outputs": [
    {
     "name": "stdout",
     "output_type": "stream",
     "text": [
      "Profit Technology : 2,208,134,900\n"
     ]
    }
   ],
   "source": [
    "print(\"Profit Technology : \"+str(profit(dataset, 'Technology')))"
   ]
  },
  {
   "cell_type": "code",
   "execution_count": 17,
   "metadata": {},
   "outputs": [
    {
     "name": "stdout",
     "output_type": "stream",
     "text": [
      "5,296,994,800\n"
     ]
    }
   ],
   "source": [
    "# calculate total profit\n",
    "print(\"{:,}\".format(dataset[\"Profit\"].sum()))"
   ]
  },
  {
   "cell_type": "markdown",
   "metadata": {},
   "source": [
    "### 3. An Analysis Pivot Tabel"
   ]
  },
  {
   "cell_type": "code",
   "execution_count": 18,
   "metadata": {},
   "outputs": [],
   "source": [
    "def pivot(data, columns, columns_name):\n",
    "\n",
    "    # 1. Process pivot table\n",
    "    df = pd.pivot_table(data=data, index=\"Category\", columns=columns, values=\"Sold\", aggfunc=\"sum\")\n",
    "\n",
    "    # 2. change columns name\n",
    "    df.columns = columns_name\n",
    "\n",
    "    # 3. reset index\n",
    "    df = df.reset_index()\n",
    "\n",
    "    # return values\n",
    "    return df"
   ]
  },
  {
   "cell_type": "code",
   "execution_count": 19,
   "metadata": {},
   "outputs": [
    {
     "name": "stdout",
     "output_type": "stream",
     "text": [
      "          Category      1      2      3      4      5      6      7      8      9     10      11     12\n",
      "0        Furniture  21570  10910  28990  25230  28980  38860  35480  26100  71850  33140   73460  94320\n",
      "1  Office Supplies  36320  21870  48360  39660  41430  48860  40400  57120  85820  48670   89570  92980\n",
      "2       Technology  27250  28090  64340  45610  53920  53710  46950  45770  73810  87480  102240  92780\n"
     ]
    }
   ],
   "source": [
    "# calculate pivot table\n",
    "df_month = pivot(data=dataset, columns=\"Month\", columns_name=dataset[\"Month\"].sort_values().unique().tolist())\n",
    "print(df_month)"
   ]
  },
  {
   "cell_type": "code",
   "execution_count": 20,
   "metadata": {},
   "outputs": [
    {
     "name": "stdout",
     "output_type": "stream",
     "text": [
      "          Category    2014    2015    2016    2017\n",
      "0        Furniture  100460  116160  136660  135610\n",
      "1  Office Supplies  132840  126560  170940  220720\n",
      "2       Technology  119840  152660  208900  240550\n"
     ]
    }
   ],
   "source": [
    "# calculate pivot table\n",
    "df_year = pivot(data=dataset, columns=\"Year\", columns_name=dataset[\"Year\"].sort_values().unique().tolist())\n",
    "print(df_year)"
   ]
  },
  {
   "cell_type": "code",
   "execution_count": 21,
   "metadata": {},
   "outputs": [
    {
     "name": "stdout",
     "output_type": "stream",
     "text": [
      "          Category  First Class  Same Day  Second Class  Standard Class\n",
      "0        Furniture        72430     23700        106740          286020\n",
      "1  Office Supplies        94410     28890        146260          381500\n",
      "2       Technology       128840     49340        130040          413730\n"
     ]
    }
   ],
   "source": [
    "# calculate pivot table\n",
    "df_ship_mode = pivot(data=dataset, columns=\"Ship Mode\", columns_name=dataset[\"Ship Mode\"].sort_values().unique().tolist())\n",
    "print(df_ship_mode)"
   ]
  },
  {
   "cell_type": "code",
   "execution_count": 22,
   "metadata": {},
   "outputs": [
    {
     "name": "stdout",
     "output_type": "stream",
     "text": [
      "          Category   Bali    Jawa  Kalimantan   Papua  Sulawesi  Sumatra\n",
      "0        Furniture  69880   53430      103160   94320     92870    75230\n",
      "1  Office Supplies  81500   90510      125980  133000    116750   103320\n",
      "2       Technology  93280  107560      131800  161040    137640    90630\n"
     ]
    }
   ],
   "source": [
    "# calculate pivot table\n",
    "df_area = pivot(data=dataset, columns=\"Area\", columns_name=dataset[\"Area\"].sort_values().unique().tolist())\n",
    "print(df_area)"
   ]
  },
  {
   "cell_type": "code",
   "execution_count": 23,
   "metadata": {},
   "outputs": [
    {
     "name": "stdout",
     "output_type": "stream",
     "text": [
      "          Category  Central    East   South    West\n",
      "0        Furniture    79310  123000   86150  200430\n",
      "1  Office Supplies   138590  184870  109370  218230\n",
      "2       Technology   148800  219890  109220  244040\n"
     ]
    }
   ],
   "source": [
    "# calculate pivot table\n",
    "df_region = pivot(data=dataset, columns=\"Region\", columns_name=dataset[\"Region\"].sort_values().unique().tolist())\n",
    "print(df_region)"
   ]
  },
  {
   "cell_type": "markdown",
   "metadata": {},
   "source": [
    "### 4. Data Visualization"
   ]
  },
  {
   "cell_type": "code",
   "execution_count": 24,
   "metadata": {},
   "outputs": [],
   "source": [
    "# choose category\n",
    "category = \"Technology\" # Furniture, Office Supplies, Technology"
   ]
  },
  {
   "cell_type": "code",
   "execution_count": 25,
   "metadata": {},
   "outputs": [],
   "source": [
    "def lineplot(data):\n",
    "\n",
    "    # create figure\n",
    "    fig, ax = plt.subplots(figsize=(8,4))\n",
    "    sns.lineplot(data=data, x=\"Labels\", y=\"Percent\")\n",
    "\n",
    "    # set labels\n",
    "    ax.set_title(\"\", fontsize=14)\n",
    "    ax.set_xlabel(\"\", fontsize=12)\n",
    "    ax.set_ylabel(\"\", fontsize=12)\n",
    "    ax.grid(True)\n",
    "\n",
    "    # custom labes\n",
    "    ax.set_xticks(np.arange(1,13,1))\n",
    "    ax.set_yticks(np.arange(0, 26, 5))\n",
    "\n",
    "    # show plot\n",
    "    plt.tight_layout()\n",
    "    plt.show()"
   ]
  },
  {
   "cell_type": "code",
   "execution_count": 26,
   "metadata": {},
   "outputs": [],
   "source": [
    "def barplot(data):\n",
    "    \n",
    "    # create figure\n",
    "    fig, ax = plt.subplots(figsize=(8,4))\n",
    "    sns.barplot(data=data, x=\"Labels\", y=\"Percent\", hue=\"Labels\", palette=\"YlGn\", legend=False)\n",
    "\n",
    "    # set labels\n",
    "    ax.set_title(\"\", fontsize=14)\n",
    "    ax.set_xlabel(\"\", fontsize=12)\n",
    "    ax.set_ylabel(\"\", fontsize=12)\n",
    "    ax.grid(True)\n",
    "\n",
    "    # custom labes\n",
    "    ax.set_yticks(np.arange(0, 61, 10))\n",
    "\n",
    "    # show plot\n",
    "    plt.tight_layout()\n",
    "    plt.show()"
   ]
  },
  {
   "cell_type": "code",
   "execution_count": 27,
   "metadata": {},
   "outputs": [],
   "source": [
    "def unpivot(df, category):\n",
    "\n",
    "    # 1. unpivot table\n",
    "    df = pd.melt(df.query(\"Category == @category\"), id_vars=[\"Category\"], var_name=\"Labels\", value_name=\"Values\")\n",
    "\n",
    "    # 2. calculate percente\n",
    "    df[\"Percent\"] = np.round(df[\"Values\"] / df[\"Values\"].sum()*100)\n",
    "\n",
    "    return df"
   ]
  },
  {
   "cell_type": "code",
   "execution_count": 28,
   "metadata": {},
   "outputs": [
    {
     "data": {
      "image/png": "[encoded data removed]",
      "text/plain": [
       "<Figure size 800x400 with 1 Axes>"
      ]
     },
     "metadata": {},
     "output_type": "display_data"
    }
   ],
   "source": [
    "# convert to unpivot\n",
    "df = unpivot(df_month, category)\n",
    "df = df.sort_values(by=\"Values\", ascending=True)\n",
    "\n",
    "# show results\n",
    "lineplot(df) "
   ]
  },
  {
   "cell_type": "code",
   "execution_count": 29,
   "metadata": {},
   "outputs": [
    {
     "data": {
      "image/png": "[encoded data removed]",
      "text/plain": [
       "<Figure size 800x400 with 1 Axes>"
      ]
     },
     "metadata": {},
     "output_type": "display_data"
    }
   ],
   "source": [
    "# convert to unpivot\n",
    "df = unpivot(df_year, category)\n",
    "df = df.sort_values(by=\"Values\", ascending=True).tail(4)\n",
    "\n",
    "# show results\n",
    "barplot(df) "
   ]
  },
  {
   "cell_type": "code",
   "execution_count": 30,
   "metadata": {},
   "outputs": [
    {
     "data": {
      "image/png": "[encoded data removed]",
      "text/plain": [
       "<Figure size 800x400 with 1 Axes>"
      ]
     },
     "metadata": {},
     "output_type": "display_data"
    }
   ],
   "source": [
    "# convert to unpivot\n",
    "df = unpivot(df_ship_mode, category)\n",
    "df = df.sort_values(by=\"Values\", ascending=True).tail(4)\n",
    "\n",
    "# show results\n",
    "barplot(df) "
   ]
  },
  {
   "cell_type": "code",
   "execution_count": 31,
   "metadata": {},
   "outputs": [
    {
     "data": {
      "image/png": "[encoded data removed]",
      "text/plain": [
       "<Figure size 800x400 with 1 Axes>"
      ]
     },
     "metadata": {},
     "output_type": "display_data"
    }
   ],
   "source": [
    "# convert to unpivot\n",
    "df = unpivot(df_area, category)\n",
    "df = df.sort_values(by=\"Values\", ascending=True).tail(4)\n",
    "\n",
    "# show results\n",
    "barplot(df) "
   ]
  },
  {
   "cell_type": "code",
   "execution_count": 32,
   "metadata": {},
   "outputs": [
    {
     "data": {
      "image/png": "[encoded data removed]",
      "text/plain": [
       "<Figure size 800x400 with 1 Axes>"
      ]
     },
     "metadata": {},
     "output_type": "display_data"
    }
   ],
   "source": [
    "# convert to unpivot\n",
    "df = unpivot(df_region, category)\n",
    "df = df.sort_values(by=\"Values\", ascending=True).tail(4)\n",
    "\n",
    "# show results\n",
    "barplot(df) "
   ]
  },
  {
   "cell_type": "code",
   "execution_count": null,
   "metadata": {},
   "outputs": [],
   "source": []
  }
 ],
 "metadata": {
  "kernelspec": {
   "display_name": "env",
   "language": "python",
   "name": "python3"
  },
  "language_info": {
   "codemirror_mode": {
    "name": "ipython",
    "version": 3
   },
   "file_extension": ".py",
   "mimetype": "text/x-python",
   "name": "python",
   "nbconvert_exporter": "python",
   "pygments_lexer": "ipython3",
   "version": "3.11.7"
  }
 },
 "nbformat": 4,
 "nbformat_minor": 2
}
